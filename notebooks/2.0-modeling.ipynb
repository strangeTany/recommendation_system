{
 "cells": [
  {
   "cell_type": "code",
   "execution_count": 2,
   "metadata": {},
   "outputs": [],
   "source": [
    "import os\n",
    "import pandas as pd\n",
    "from xgboost import XGBRegressor\n",
    "from sklearn.model_selection import GridSearchCV\n",
    "from sklearn.metrics import mean_squared_error, mean_absolute_error\n",
    "import joblib\n"
   ]
  },
  {
   "cell_type": "code",
   "execution_count": 3,
   "metadata": {},
   "outputs": [],
   "source": [
    "data_path = os.path.join('../data/interim')\n",
    "model_path = os.path.join('../models')"
   ]
  },
  {
   "cell_type": "code",
   "execution_count": 4,
   "metadata": {},
   "outputs": [],
   "source": [
    "train_x = pd.read_csv(os.path.join(data_path, \"train_x.csv\"), sep='|')\n",
    "train_y = pd.read_csv(os.path.join(data_path, \"train_y.csv\"), sep='|')\n",
    "test_x = pd.read_csv(os.path.join(data_path, \"test_x.csv\"), sep='|')\n",
    "test_y = pd.read_csv(os.path.join(data_path, \"test_y.csv\"), sep='|')"
   ]
  },
  {
   "cell_type": "code",
   "execution_count": 5,
   "metadata": {},
   "outputs": [],
   "source": [
    "param_grid = {\n",
    "    'n_estimators': [100, 200, 300], \n",
    "    'learning_rate': [0.01, 0.1, 0.2], \n",
    "    'max_depth': [3, 4, 5], \n",
    "}\n",
    "\n",
    "grid = GridSearchCV(\n",
    "            estimator=XGBRegressor(device=\"cpu\"),\n",
    "            param_grid=param_grid,\n",
    "            cv=3, scoring='neg_mean_absolute_error', verbose=1, n_jobs=1)"
   ]
  },
  {
   "cell_type": "code",
   "execution_count": 6,
   "metadata": {},
   "outputs": [],
   "source": [
    "def fit(model, *args, **kwargs):\n",
    "    model.verbose = 10\n",
    "    model.fit(*args, **kwargs)\n",
    "    return model"
   ]
  },
  {
   "cell_type": "code",
   "execution_count": 7,
   "metadata": {},
   "outputs": [
    {
     "name": "stdout",
     "output_type": "stream",
     "text": [
      "Fitting 3 folds for each of 27 candidates, totalling 81 fits\n",
      "[CV 1/3; 1/27] START learning_rate=0.01, max_depth=3, n_estimators=100..........\n",
      "[CV 1/3; 1/27] END learning_rate=0.01, max_depth=3, n_estimators=100;, score=-0.896 total time=   2.5s\n",
      "[CV 2/3; 1/27] START learning_rate=0.01, max_depth=3, n_estimators=100..........\n",
      "[CV 2/3; 1/27] END learning_rate=0.01, max_depth=3, n_estimators=100;, score=-0.898 total time=   1.9s\n",
      "[CV 3/3; 1/27] START learning_rate=0.01, max_depth=3, n_estimators=100..........\n",
      "[CV 3/3; 1/27] END learning_rate=0.01, max_depth=3, n_estimators=100;, score=-0.892 total time=   1.8s\n",
      "[CV 1/3; 2/27] START learning_rate=0.01, max_depth=3, n_estimators=200..........\n",
      "[CV 1/3; 2/27] END learning_rate=0.01, max_depth=3, n_estimators=200;, score=-0.872 total time=   3.0s\n",
      "[CV 2/3; 2/27] START learning_rate=0.01, max_depth=3, n_estimators=200..........\n",
      "[CV 2/3; 2/27] END learning_rate=0.01, max_depth=3, n_estimators=200;, score=-0.873 total time=   3.0s\n",
      "[CV 3/3; 2/27] START learning_rate=0.01, max_depth=3, n_estimators=200..........\n",
      "[CV 3/3; 2/27] END learning_rate=0.01, max_depth=3, n_estimators=200;, score=-0.869 total time=   3.1s\n",
      "[CV 1/3; 3/27] START learning_rate=0.01, max_depth=3, n_estimators=300..........\n",
      "[CV 1/3; 3/27] END learning_rate=0.01, max_depth=3, n_estimators=300;, score=-0.860 total time=   4.8s\n",
      "[CV 2/3; 3/27] START learning_rate=0.01, max_depth=3, n_estimators=300..........\n",
      "[CV 2/3; 3/27] END learning_rate=0.01, max_depth=3, n_estimators=300;, score=-0.860 total time=   4.4s\n",
      "[CV 3/3; 3/27] START learning_rate=0.01, max_depth=3, n_estimators=300..........\n",
      "[CV 3/3; 3/27] END learning_rate=0.01, max_depth=3, n_estimators=300;, score=-0.856 total time=   4.6s\n",
      "[CV 1/3; 4/27] START learning_rate=0.01, max_depth=4, n_estimators=100..........\n",
      "[CV 1/3; 4/27] END learning_rate=0.01, max_depth=4, n_estimators=100;, score=-0.887 total time=   2.2s\n",
      "[CV 2/3; 4/27] START learning_rate=0.01, max_depth=4, n_estimators=100..........\n",
      "[CV 2/3; 4/27] END learning_rate=0.01, max_depth=4, n_estimators=100;, score=-0.888 total time=   2.2s\n",
      "[CV 3/3; 4/27] START learning_rate=0.01, max_depth=4, n_estimators=100..........\n",
      "[CV 3/3; 4/27] END learning_rate=0.01, max_depth=4, n_estimators=100;, score=-0.883 total time=   2.3s\n",
      "[CV 1/3; 5/27] START learning_rate=0.01, max_depth=4, n_estimators=200..........\n",
      "[CV 1/3; 5/27] END learning_rate=0.01, max_depth=4, n_estimators=200;, score=-0.858 total time=   4.0s\n",
      "[CV 2/3; 5/27] START learning_rate=0.01, max_depth=4, n_estimators=200..........\n",
      "[CV 2/3; 5/27] END learning_rate=0.01, max_depth=4, n_estimators=200;, score=-0.859 total time=   4.7s\n",
      "[CV 3/3; 5/27] START learning_rate=0.01, max_depth=4, n_estimators=200..........\n",
      "[CV 3/3; 5/27] END learning_rate=0.01, max_depth=4, n_estimators=200;, score=-0.854 total time=   4.1s\n",
      "[CV 1/3; 6/27] START learning_rate=0.01, max_depth=4, n_estimators=300..........\n",
      "[CV 1/3; 6/27] END learning_rate=0.01, max_depth=4, n_estimators=300;, score=-0.845 total time=   5.6s\n",
      "[CV 2/3; 6/27] START learning_rate=0.01, max_depth=4, n_estimators=300..........\n",
      "[CV 2/3; 6/27] END learning_rate=0.01, max_depth=4, n_estimators=300;, score=-0.845 total time=   6.0s\n",
      "[CV 3/3; 6/27] START learning_rate=0.01, max_depth=4, n_estimators=300..........\n",
      "[CV 3/3; 6/27] END learning_rate=0.01, max_depth=4, n_estimators=300;, score=-0.841 total time=   8.0s\n",
      "[CV 1/3; 7/27] START learning_rate=0.01, max_depth=5, n_estimators=100..........\n",
      "[CV 1/3; 7/27] END learning_rate=0.01, max_depth=5, n_estimators=100;, score=-0.876 total time=   3.2s\n",
      "[CV 2/3; 7/27] START learning_rate=0.01, max_depth=5, n_estimators=100..........\n",
      "[CV 2/3; 7/27] END learning_rate=0.01, max_depth=5, n_estimators=100;, score=-0.878 total time=   3.0s\n",
      "[CV 3/3; 7/27] START learning_rate=0.01, max_depth=5, n_estimators=100..........\n",
      "[CV 3/3; 7/27] END learning_rate=0.01, max_depth=5, n_estimators=100;, score=-0.872 total time=   3.0s\n",
      "[CV 1/3; 8/27] START learning_rate=0.01, max_depth=5, n_estimators=200..........\n",
      "[CV 1/3; 8/27] END learning_rate=0.01, max_depth=5, n_estimators=200;, score=-0.845 total time=   5.1s\n",
      "[CV 2/3; 8/27] START learning_rate=0.01, max_depth=5, n_estimators=200..........\n",
      "[CV 2/3; 8/27] END learning_rate=0.01, max_depth=5, n_estimators=200;, score=-0.846 total time=   5.2s\n",
      "[CV 3/3; 8/27] START learning_rate=0.01, max_depth=5, n_estimators=200..........\n",
      "[CV 3/3; 8/27] END learning_rate=0.01, max_depth=5, n_estimators=200;, score=-0.840 total time=   5.2s\n",
      "[CV 1/3; 9/27] START learning_rate=0.01, max_depth=5, n_estimators=300..........\n",
      "[CV 1/3; 9/27] END learning_rate=0.01, max_depth=5, n_estimators=300;, score=-0.830 total time=   8.1s\n",
      "[CV 2/3; 9/27] START learning_rate=0.01, max_depth=5, n_estimators=300..........\n",
      "[CV 2/3; 9/27] END learning_rate=0.01, max_depth=5, n_estimators=300;, score=-0.831 total time=   7.7s\n",
      "[CV 3/3; 9/27] START learning_rate=0.01, max_depth=5, n_estimators=300..........\n",
      "[CV 3/3; 9/27] END learning_rate=0.01, max_depth=5, n_estimators=300;, score=-0.826 total time=   7.6s\n",
      "[CV 1/3; 10/27] START learning_rate=0.1, max_depth=3, n_estimators=100..........\n",
      "[CV 1/3; 10/27] END learning_rate=0.1, max_depth=3, n_estimators=100;, score=-0.829 total time=   1.9s\n",
      "[CV 2/3; 10/27] START learning_rate=0.1, max_depth=3, n_estimators=100..........\n",
      "[CV 2/3; 10/27] END learning_rate=0.1, max_depth=3, n_estimators=100;, score=-0.829 total time=   1.9s\n",
      "[CV 3/3; 10/27] START learning_rate=0.1, max_depth=3, n_estimators=100..........\n",
      "[CV 3/3; 10/27] END learning_rate=0.1, max_depth=3, n_estimators=100;, score=-0.824 total time=   1.8s\n",
      "[CV 1/3; 11/27] START learning_rate=0.1, max_depth=3, n_estimators=200..........\n",
      "[CV 1/3; 11/27] END learning_rate=0.1, max_depth=3, n_estimators=200;, score=-0.810 total time=   3.2s\n",
      "[CV 2/3; 11/27] START learning_rate=0.1, max_depth=3, n_estimators=200..........\n",
      "[CV 2/3; 11/27] END learning_rate=0.1, max_depth=3, n_estimators=200;, score=-0.810 total time=   3.1s\n",
      "[CV 3/3; 11/27] START learning_rate=0.1, max_depth=3, n_estimators=200..........\n",
      "[CV 3/3; 11/27] END learning_rate=0.1, max_depth=3, n_estimators=200;, score=-0.806 total time=   3.0s\n",
      "[CV 1/3; 12/27] START learning_rate=0.1, max_depth=3, n_estimators=300..........\n",
      "[CV 1/3; 12/27] END learning_rate=0.1, max_depth=3, n_estimators=300;, score=-0.799 total time=   4.3s\n",
      "[CV 2/3; 12/27] START learning_rate=0.1, max_depth=3, n_estimators=300..........\n",
      "[CV 2/3; 12/27] END learning_rate=0.1, max_depth=3, n_estimators=300;, score=-0.798 total time=   4.3s\n",
      "[CV 3/3; 12/27] START learning_rate=0.1, max_depth=3, n_estimators=300..........\n",
      "[CV 3/3; 12/27] END learning_rate=0.1, max_depth=3, n_estimators=300;, score=-0.795 total time=   4.2s\n",
      "[CV 1/3; 13/27] START learning_rate=0.1, max_depth=4, n_estimators=100..........\n",
      "[CV 1/3; 13/27] END learning_rate=0.1, max_depth=4, n_estimators=100;, score=-0.810 total time=   2.2s\n",
      "[CV 2/3; 13/27] START learning_rate=0.1, max_depth=4, n_estimators=100..........\n",
      "[CV 2/3; 13/27] END learning_rate=0.1, max_depth=4, n_estimators=100;, score=-0.810 total time=   2.2s\n",
      "[CV 3/3; 13/27] START learning_rate=0.1, max_depth=4, n_estimators=100..........\n",
      "[CV 3/3; 13/27] END learning_rate=0.1, max_depth=4, n_estimators=100;, score=-0.805 total time=   2.3s\n",
      "[CV 1/3; 14/27] START learning_rate=0.1, max_depth=4, n_estimators=200..........\n",
      "[CV 1/3; 14/27] END learning_rate=0.1, max_depth=4, n_estimators=200;, score=-0.791 total time=   3.7s\n",
      "[CV 2/3; 14/27] START learning_rate=0.1, max_depth=4, n_estimators=200..........\n",
      "[CV 2/3; 14/27] END learning_rate=0.1, max_depth=4, n_estimators=200;, score=-0.789 total time=   4.0s\n",
      "[CV 3/3; 14/27] START learning_rate=0.1, max_depth=4, n_estimators=200..........\n",
      "[CV 3/3; 14/27] END learning_rate=0.1, max_depth=4, n_estimators=200;, score=-0.787 total time=   3.7s\n",
      "[CV 1/3; 15/27] START learning_rate=0.1, max_depth=4, n_estimators=300..........\n",
      "[CV 1/3; 15/27] END learning_rate=0.1, max_depth=4, n_estimators=300;, score=-0.781 total time=   5.8s\n",
      "[CV 2/3; 15/27] START learning_rate=0.1, max_depth=4, n_estimators=300..........\n",
      "[CV 2/3; 15/27] END learning_rate=0.1, max_depth=4, n_estimators=300;, score=-0.780 total time=   7.2s\n",
      "[CV 3/3; 15/27] START learning_rate=0.1, max_depth=4, n_estimators=300..........\n",
      "[CV 3/3; 15/27] END learning_rate=0.1, max_depth=4, n_estimators=300;, score=-0.777 total time=   5.8s\n",
      "[CV 1/3; 16/27] START learning_rate=0.1, max_depth=5, n_estimators=100..........\n",
      "[CV 1/3; 16/27] END learning_rate=0.1, max_depth=5, n_estimators=100;, score=-0.795 total time=   2.8s\n",
      "[CV 2/3; 16/27] START learning_rate=0.1, max_depth=5, n_estimators=100..........\n",
      "[CV 2/3; 16/27] END learning_rate=0.1, max_depth=5, n_estimators=100;, score=-0.794 total time=   2.7s\n",
      "[CV 3/3; 16/27] START learning_rate=0.1, max_depth=5, n_estimators=100..........\n",
      "[CV 3/3; 16/27] END learning_rate=0.1, max_depth=5, n_estimators=100;, score=-0.792 total time=   2.8s\n",
      "[CV 1/3; 17/27] START learning_rate=0.1, max_depth=5, n_estimators=200..........\n",
      "[CV 1/3; 17/27] END learning_rate=0.1, max_depth=5, n_estimators=200;, score=-0.779 total time=   5.5s\n",
      "[CV 2/3; 17/27] START learning_rate=0.1, max_depth=5, n_estimators=200..........\n",
      "[CV 2/3; 17/27] END learning_rate=0.1, max_depth=5, n_estimators=200;, score=-0.777 total time=   6.1s\n",
      "[CV 3/3; 17/27] START learning_rate=0.1, max_depth=5, n_estimators=200..........\n",
      "[CV 3/3; 17/27] END learning_rate=0.1, max_depth=5, n_estimators=200;, score=-0.775 total time=   5.2s\n",
      "[CV 1/3; 18/27] START learning_rate=0.1, max_depth=5, n_estimators=300..........\n",
      "[CV 1/3; 18/27] END learning_rate=0.1, max_depth=5, n_estimators=300;, score=-0.772 total time=   7.0s\n",
      "[CV 2/3; 18/27] START learning_rate=0.1, max_depth=5, n_estimators=300..........\n",
      "[CV 2/3; 18/27] END learning_rate=0.1, max_depth=5, n_estimators=300;, score=-0.770 total time=   6.9s\n",
      "[CV 3/3; 18/27] START learning_rate=0.1, max_depth=5, n_estimators=300..........\n",
      "[CV 3/3; 18/27] END learning_rate=0.1, max_depth=5, n_estimators=300;, score=-0.770 total time=   6.9s\n",
      "[CV 1/3; 19/27] START learning_rate=0.2, max_depth=3, n_estimators=100..........\n",
      "[CV 1/3; 19/27] END learning_rate=0.2, max_depth=3, n_estimators=100;, score=-0.810 total time=   2.0s\n",
      "[CV 2/3; 19/27] START learning_rate=0.2, max_depth=3, n_estimators=100..........\n",
      "[CV 2/3; 19/27] END learning_rate=0.2, max_depth=3, n_estimators=100;, score=-0.809 total time=   1.9s\n",
      "[CV 3/3; 19/27] START learning_rate=0.2, max_depth=3, n_estimators=100..........\n",
      "[CV 3/3; 19/27] END learning_rate=0.2, max_depth=3, n_estimators=100;, score=-0.805 total time=   2.0s\n",
      "[CV 1/3; 20/27] START learning_rate=0.2, max_depth=3, n_estimators=200..........\n",
      "[CV 1/3; 20/27] END learning_rate=0.2, max_depth=3, n_estimators=200;, score=-0.790 total time=   3.1s\n",
      "[CV 2/3; 20/27] START learning_rate=0.2, max_depth=3, n_estimators=200..........\n",
      "[CV 2/3; 20/27] END learning_rate=0.2, max_depth=3, n_estimators=200;, score=-0.788 total time=   3.1s\n",
      "[CV 3/3; 20/27] START learning_rate=0.2, max_depth=3, n_estimators=200..........\n",
      "[CV 3/3; 20/27] END learning_rate=0.2, max_depth=3, n_estimators=200;, score=-0.788 total time=   3.1s\n",
      "[CV 1/3; 21/27] START learning_rate=0.2, max_depth=3, n_estimators=300..........\n",
      "[CV 1/3; 21/27] END learning_rate=0.2, max_depth=3, n_estimators=300;, score=-0.781 total time=   4.4s\n",
      "[CV 2/3; 21/27] START learning_rate=0.2, max_depth=3, n_estimators=300..........\n",
      "[CV 2/3; 21/27] END learning_rate=0.2, max_depth=3, n_estimators=300;, score=-0.780 total time=   4.3s\n",
      "[CV 3/3; 21/27] START learning_rate=0.2, max_depth=3, n_estimators=300..........\n",
      "[CV 3/3; 21/27] END learning_rate=0.2, max_depth=3, n_estimators=300;, score=-0.779 total time=   4.3s\n",
      "[CV 1/3; 22/27] START learning_rate=0.2, max_depth=4, n_estimators=100..........\n",
      "[CV 1/3; 22/27] END learning_rate=0.2, max_depth=4, n_estimators=100;, score=-0.790 total time=   2.2s\n",
      "[CV 2/3; 22/27] START learning_rate=0.2, max_depth=4, n_estimators=100..........\n",
      "[CV 2/3; 22/27] END learning_rate=0.2, max_depth=4, n_estimators=100;, score=-0.791 total time=   2.5s\n",
      "[CV 3/3; 22/27] START learning_rate=0.2, max_depth=4, n_estimators=100..........\n",
      "[CV 3/3; 22/27] END learning_rate=0.2, max_depth=4, n_estimators=100;, score=-0.786 total time=   2.2s\n",
      "[CV 1/3; 23/27] START learning_rate=0.2, max_depth=4, n_estimators=200..........\n",
      "[CV 1/3; 23/27] END learning_rate=0.2, max_depth=4, n_estimators=200;, score=-0.776 total time=   4.0s\n",
      "[CV 2/3; 23/27] START learning_rate=0.2, max_depth=4, n_estimators=200..........\n",
      "[CV 2/3; 23/27] END learning_rate=0.2, max_depth=4, n_estimators=200;, score=-0.775 total time=   4.1s\n",
      "[CV 3/3; 23/27] START learning_rate=0.2, max_depth=4, n_estimators=200..........\n",
      "[CV 3/3; 23/27] END learning_rate=0.2, max_depth=4, n_estimators=200;, score=-0.773 total time=   3.8s\n",
      "[CV 1/3; 24/27] START learning_rate=0.2, max_depth=4, n_estimators=300..........\n",
      "[CV 1/3; 24/27] END learning_rate=0.2, max_depth=4, n_estimators=300;, score=-0.772 total time=   5.1s\n",
      "[CV 2/3; 24/27] START learning_rate=0.2, max_depth=4, n_estimators=300..........\n",
      "[CV 2/3; 24/27] END learning_rate=0.2, max_depth=4, n_estimators=300;, score=-0.769 total time=   5.3s\n",
      "[CV 3/3; 24/27] START learning_rate=0.2, max_depth=4, n_estimators=300..........\n",
      "[CV 3/3; 24/27] END learning_rate=0.2, max_depth=4, n_estimators=300;, score=-0.768 total time=   5.5s\n",
      "[CV 1/3; 25/27] START learning_rate=0.2, max_depth=5, n_estimators=100..........\n",
      "[CV 1/3; 25/27] END learning_rate=0.2, max_depth=5, n_estimators=100;, score=-0.780 total time=   3.0s\n",
      "[CV 2/3; 25/27] START learning_rate=0.2, max_depth=5, n_estimators=100..........\n",
      "[CV 2/3; 25/27] END learning_rate=0.2, max_depth=5, n_estimators=100;, score=-0.775 total time=   3.6s\n",
      "[CV 3/3; 25/27] START learning_rate=0.2, max_depth=5, n_estimators=100..........\n",
      "[CV 3/3; 25/27] END learning_rate=0.2, max_depth=5, n_estimators=100;, score=-0.776 total time=   3.4s\n",
      "[CV 1/3; 26/27] START learning_rate=0.2, max_depth=5, n_estimators=200..........\n",
      "[CV 1/3; 26/27] END learning_rate=0.2, max_depth=5, n_estimators=200;, score=-0.771 total time=   6.2s\n",
      "[CV 2/3; 26/27] START learning_rate=0.2, max_depth=5, n_estimators=200..........\n",
      "[CV 2/3; 26/27] END learning_rate=0.2, max_depth=5, n_estimators=200;, score=-0.766 total time=   6.4s\n",
      "[CV 3/3; 26/27] START learning_rate=0.2, max_depth=5, n_estimators=200..........\n",
      "[CV 3/3; 26/27] END learning_rate=0.2, max_depth=5, n_estimators=200;, score=-0.767 total time=   5.1s\n",
      "[CV 1/3; 27/27] START learning_rate=0.2, max_depth=5, n_estimators=300..........\n",
      "[CV 1/3; 27/27] END learning_rate=0.2, max_depth=5, n_estimators=300;, score=-0.770 total time=   7.6s\n",
      "[CV 2/3; 27/27] START learning_rate=0.2, max_depth=5, n_estimators=300..........\n",
      "[CV 2/3; 27/27] END learning_rate=0.2, max_depth=5, n_estimators=300;, score=-0.764 total time=   6.8s\n",
      "[CV 3/3; 27/27] START learning_rate=0.2, max_depth=5, n_estimators=300..........\n",
      "[CV 3/3; 27/27] END learning_rate=0.2, max_depth=5, n_estimators=300;, score=-0.766 total time=   6.8s\n"
     ]
    }
   ],
   "source": [
    "grid_search = fit(grid, train_x, train_y)"
   ]
  },
  {
   "cell_type": "code",
   "execution_count": 8,
   "metadata": {},
   "outputs": [],
   "source": [
    "best_xgb = grid_search.best_estimator_"
   ]
  },
  {
   "cell_type": "code",
   "execution_count": 9,
   "metadata": {},
   "outputs": [
    {
     "name": "stdout",
     "output_type": "stream",
     "text": [
      "Mean Squared Error (MSE): 0.8929292719918093\n",
      "Root Mean Squared Error (RMSE): 0.9449493489027914\n",
      "Mean Absolute Error (MAE): 0.7480109349684496\n"
     ]
    }
   ],
   "source": [
    "predictions = best_xgb.predict(test_x)\n",
    "\n",
    "# Calculate evaluation metrics\n",
    "mse = mean_squared_error(test_y, predictions)\n",
    "rmse = mean_squared_error(test_y, predictions, squared=False)\n",
    "mae = mean_absolute_error(test_y, predictions)\n",
    "\n",
    "print(\"Mean Squared Error (MSE):\", mse)\n",
    "print(\"Root Mean Squared Error (RMSE):\", rmse)\n",
    "print(\"Mean Absolute Error (MAE):\", mae)"
   ]
  },
  {
   "cell_type": "code",
   "execution_count": 10,
   "metadata": {},
   "outputs": [
    {
     "data": {
      "text/plain": [
       "['../models/best_xgb_model.pkl']"
      ]
     },
     "execution_count": 10,
     "metadata": {},
     "output_type": "execute_result"
    }
   ],
   "source": [
    "joblib.dump(best_xgb, os.path.join(model_path, 'best_xgb_model.pkl'))"
   ]
  }
 ],
 "metadata": {
  "kernelspec": {
   "display_name": "Python 3",
   "language": "python",
   "name": "python3"
  },
  "language_info": {
   "codemirror_mode": {
    "name": "ipython",
    "version": 3
   },
   "file_extension": ".py",
   "mimetype": "text/x-python",
   "name": "python",
   "nbconvert_exporter": "python",
   "pygments_lexer": "ipython3",
   "version": "3.11.2"
  }
 },
 "nbformat": 4,
 "nbformat_minor": 2
}
