{
 "cells": [
  {
   "cell_type": "code",
   "execution_count": 1,
   "metadata": {},
   "outputs": [],
   "source": [
    "import os\n",
    "import pandas as pd\n",
    "from xgboost import XGBRegressor, DMatrix, cv\n",
    "from sklearn.model_selection import GridSearchCV\n",
    "from sklearn.metrics import mean_squared_error, mean_absolute_error\n",
    "import joblib\n"
   ]
  },
  {
   "cell_type": "code",
   "execution_count": 2,
   "metadata": {},
   "outputs": [],
   "source": [
    "data_path = os.path.join('../data/interim')\n",
    "model_path = os.path.join('../model')"
   ]
  },
  {
   "cell_type": "code",
   "execution_count": 5,
   "metadata": {},
   "outputs": [],
   "source": [
    "train_x = pd.read_csv(os.path.join(data_path, \"train_x.csv\"), sep='|')\n",
    "train_y = pd.read_csv(os.path.join(data_path, \"train_y.csv\"), sep='|')\n",
    "test_x = pd.read_csv(os.path.join(data_path, \"test_x.csv\"), sep='|')\n",
    "test_y = pd.read_csv(os.path.join(data_path, \"test_y.csv\"), sep='|')"
   ]
  },
  {
   "cell_type": "code",
   "execution_count": 6,
   "metadata": {},
   "outputs": [],
   "source": [
    "dm_train = DMatrix(data=train_x, label=train_y)\n",
    "dm_test = DMatrix(data=test_x, label=test_y)\n"
   ]
  },
  {
   "cell_type": "code",
   "execution_count": 7,
   "metadata": {},
   "outputs": [],
   "source": [
    "param_grid = {\n",
    "    'n_estimators': [100, 200, 300], \n",
    "    'learning_rate': [0.01, 0.1, 0.2], \n",
    "    'max_depth': [3, 4, 5], \n",
    "}\n",
    "\n",
    "grid = GridSearchCV(\n",
    "            estimator=XGBRegressor(device=\"cpu\"),\n",
    "            param_grid=param_grid,\n",
    "            cv=3, scoring='neg_mean_absolute_error', verbose=1, n_jobs=1)"
   ]
  },
  {
   "cell_type": "code",
   "execution_count": 8,
   "metadata": {},
   "outputs": [],
   "source": [
    "def fit(model, *args, **kwargs):\n",
    "    model.verbose = 10\n",
    "    model.fit(*args, **kwargs)\n",
    "    return model"
   ]
  },
  {
   "cell_type": "code",
   "execution_count": 9,
   "metadata": {},
   "outputs": [
    {
     "name": "stdout",
     "output_type": "stream",
     "text": [
      "Fitting 3 folds for each of 27 candidates, totalling 81 fits\n",
      "[CV 1/3; 1/27] START learning_rate=0.01, max_depth=3, n_estimators=100..........\n",
      "[CV 1/3; 1/27] END learning_rate=0.01, max_depth=3, n_estimators=100;, score=-0.926 total time=   1.9s\n",
      "[CV 2/3; 1/27] START learning_rate=0.01, max_depth=3, n_estimators=100..........\n",
      "[CV 2/3; 1/27] END learning_rate=0.01, max_depth=3, n_estimators=100;, score=-0.894 total time=   1.8s\n",
      "[CV 3/3; 1/27] START learning_rate=0.01, max_depth=3, n_estimators=100..........\n",
      "[CV 3/3; 1/27] END learning_rate=0.01, max_depth=3, n_estimators=100;, score=-0.880 total time=   1.8s\n",
      "[CV 1/3; 2/27] START learning_rate=0.01, max_depth=3, n_estimators=200..........\n",
      "[CV 1/3; 2/27] END learning_rate=0.01, max_depth=3, n_estimators=200;, score=-0.905 total time=   3.0s\n",
      "[CV 2/3; 2/27] START learning_rate=0.01, max_depth=3, n_estimators=200..........\n",
      "[CV 2/3; 2/27] END learning_rate=0.01, max_depth=3, n_estimators=200;, score=-0.872 total time=   3.1s\n",
      "[CV 3/3; 2/27] START learning_rate=0.01, max_depth=3, n_estimators=200..........\n",
      "[CV 3/3; 2/27] END learning_rate=0.01, max_depth=3, n_estimators=200;, score=-0.861 total time=   3.1s\n",
      "[CV 1/3; 3/27] START learning_rate=0.01, max_depth=3, n_estimators=300..........\n",
      "[CV 1/3; 3/27] END learning_rate=0.01, max_depth=3, n_estimators=300;, score=-0.893 total time=   4.1s\n",
      "[CV 2/3; 3/27] START learning_rate=0.01, max_depth=3, n_estimators=300..........\n",
      "[CV 2/3; 3/27] END learning_rate=0.01, max_depth=3, n_estimators=300;, score=-0.864 total time=   4.2s\n",
      "[CV 3/3; 3/27] START learning_rate=0.01, max_depth=3, n_estimators=300..........\n",
      "[CV 3/3; 3/27] END learning_rate=0.01, max_depth=3, n_estimators=300;, score=-0.851 total time=   4.2s\n",
      "[CV 1/3; 4/27] START learning_rate=0.01, max_depth=4, n_estimators=100..........\n",
      "[CV 1/3; 4/27] END learning_rate=0.01, max_depth=4, n_estimators=100;, score=-0.918 total time=   2.1s\n",
      "[CV 2/3; 4/27] START learning_rate=0.01, max_depth=4, n_estimators=100..........\n",
      "[CV 2/3; 4/27] END learning_rate=0.01, max_depth=4, n_estimators=100;, score=-0.885 total time=   2.5s\n",
      "[CV 3/3; 4/27] START learning_rate=0.01, max_depth=4, n_estimators=100..........\n",
      "[CV 3/3; 4/27] END learning_rate=0.01, max_depth=4, n_estimators=100;, score=-0.873 total time=   2.2s\n",
      "[CV 1/3; 5/27] START learning_rate=0.01, max_depth=4, n_estimators=200..........\n",
      "[CV 1/3; 5/27] END learning_rate=0.01, max_depth=4, n_estimators=200;, score=-0.892 total time=   3.7s\n",
      "[CV 2/3; 5/27] START learning_rate=0.01, max_depth=4, n_estimators=200..........\n",
      "[CV 2/3; 5/27] END learning_rate=0.01, max_depth=4, n_estimators=200;, score=-0.860 total time=   4.0s\n",
      "[CV 3/3; 5/27] START learning_rate=0.01, max_depth=4, n_estimators=200..........\n",
      "[CV 3/3; 5/27] END learning_rate=0.01, max_depth=4, n_estimators=200;, score=-0.849 total time=   4.2s\n",
      "[CV 1/3; 6/27] START learning_rate=0.01, max_depth=4, n_estimators=300..........\n",
      "[CV 1/3; 6/27] END learning_rate=0.01, max_depth=4, n_estimators=300;, score=-0.880 total time=   5.4s\n",
      "[CV 2/3; 6/27] START learning_rate=0.01, max_depth=4, n_estimators=300..........\n",
      "[CV 2/3; 6/27] END learning_rate=0.01, max_depth=4, n_estimators=300;, score=-0.853 total time=   5.5s\n",
      "[CV 3/3; 6/27] START learning_rate=0.01, max_depth=4, n_estimators=300..........\n",
      "[CV 3/3; 6/27] END learning_rate=0.01, max_depth=4, n_estimators=300;, score=-0.840 total time=   6.5s\n",
      "[CV 1/3; 7/27] START learning_rate=0.01, max_depth=5, n_estimators=100..........\n",
      "[CV 1/3; 7/27] END learning_rate=0.01, max_depth=5, n_estimators=100;, score=-0.910 total time=   4.5s\n",
      "[CV 2/3; 7/27] START learning_rate=0.01, max_depth=5, n_estimators=100..........\n",
      "[CV 2/3; 7/27] END learning_rate=0.01, max_depth=5, n_estimators=100;, score=-0.876 total time=   6.2s\n",
      "[CV 3/3; 7/27] START learning_rate=0.01, max_depth=5, n_estimators=100..........\n",
      "[CV 3/3; 7/27] END learning_rate=0.01, max_depth=5, n_estimators=100;, score=-0.865 total time=   4.2s\n",
      "[CV 1/3; 8/27] START learning_rate=0.01, max_depth=5, n_estimators=200..........\n",
      "[CV 1/3; 8/27] END learning_rate=0.01, max_depth=5, n_estimators=200;, score=-0.882 total time=   6.6s\n",
      "[CV 2/3; 8/27] START learning_rate=0.01, max_depth=5, n_estimators=200..........\n",
      "[CV 2/3; 8/27] END learning_rate=0.01, max_depth=5, n_estimators=200;, score=-0.851 total time=   5.1s\n",
      "[CV 3/3; 8/27] START learning_rate=0.01, max_depth=5, n_estimators=200..........\n",
      "[CV 3/3; 8/27] END learning_rate=0.01, max_depth=5, n_estimators=200;, score=-0.840 total time=   4.8s\n",
      "[CV 1/3; 9/27] START learning_rate=0.01, max_depth=5, n_estimators=300..........\n",
      "[CV 1/3; 9/27] END learning_rate=0.01, max_depth=5, n_estimators=300;, score=-0.871 total time=   7.0s\n",
      "[CV 2/3; 9/27] START learning_rate=0.01, max_depth=5, n_estimators=300..........\n",
      "[CV 2/3; 9/27] END learning_rate=0.01, max_depth=5, n_estimators=300;, score=-0.844 total time=   7.4s\n",
      "[CV 3/3; 9/27] START learning_rate=0.01, max_depth=5, n_estimators=300..........\n",
      "[CV 3/3; 9/27] END learning_rate=0.01, max_depth=5, n_estimators=300;, score=-0.832 total time=   6.8s\n",
      "[CV 1/3; 10/27] START learning_rate=0.1, max_depth=3, n_estimators=100..........\n",
      "[CV 1/3; 10/27] END learning_rate=0.1, max_depth=3, n_estimators=100;, score=-0.864 total time=   1.7s\n",
      "[CV 2/3; 10/27] START learning_rate=0.1, max_depth=3, n_estimators=100..........\n",
      "[CV 2/3; 10/27] END learning_rate=0.1, max_depth=3, n_estimators=100;, score=-0.845 total time=   1.6s\n",
      "[CV 3/3; 10/27] START learning_rate=0.1, max_depth=3, n_estimators=100..........\n",
      "[CV 3/3; 10/27] END learning_rate=0.1, max_depth=3, n_estimators=100;, score=-0.830 total time=   1.6s\n",
      "[CV 1/3; 11/27] START learning_rate=0.1, max_depth=3, n_estimators=200..........\n",
      "[CV 1/3; 11/27] END learning_rate=0.1, max_depth=3, n_estimators=200;, score=-0.857 total time=   2.8s\n",
      "[CV 2/3; 11/27] START learning_rate=0.1, max_depth=3, n_estimators=200..........\n",
      "[CV 2/3; 11/27] END learning_rate=0.1, max_depth=3, n_estimators=200;, score=-0.833 total time=   2.7s\n",
      "[CV 3/3; 11/27] START learning_rate=0.1, max_depth=3, n_estimators=200..........\n",
      "[CV 3/3; 11/27] END learning_rate=0.1, max_depth=3, n_estimators=200;, score=-0.820 total time=   2.7s\n",
      "[CV 1/3; 12/27] START learning_rate=0.1, max_depth=3, n_estimators=300..........\n",
      "[CV 1/3; 12/27] END learning_rate=0.1, max_depth=3, n_estimators=300;, score=-0.856 total time=   3.9s\n",
      "[CV 2/3; 12/27] START learning_rate=0.1, max_depth=3, n_estimators=300..........\n",
      "[CV 2/3; 12/27] END learning_rate=0.1, max_depth=3, n_estimators=300;, score=-0.827 total time=   3.8s\n",
      "[CV 3/3; 12/27] START learning_rate=0.1, max_depth=3, n_estimators=300..........\n",
      "[CV 3/3; 12/27] END learning_rate=0.1, max_depth=3, n_estimators=300;, score=-0.823 total time=   3.9s\n",
      "[CV 1/3; 13/27] START learning_rate=0.1, max_depth=4, n_estimators=100..........\n",
      "[CV 1/3; 13/27] END learning_rate=0.1, max_depth=4, n_estimators=100;, score=-0.857 total time=   2.1s\n",
      "[CV 2/3; 13/27] START learning_rate=0.1, max_depth=4, n_estimators=100..........\n",
      "[CV 2/3; 13/27] END learning_rate=0.1, max_depth=4, n_estimators=100;, score=-0.836 total time=   2.1s\n",
      "[CV 3/3; 13/27] START learning_rate=0.1, max_depth=4, n_estimators=100..........\n",
      "[CV 3/3; 13/27] END learning_rate=0.1, max_depth=4, n_estimators=100;, score=-0.821 total time=   2.0s\n",
      "[CV 1/3; 14/27] START learning_rate=0.1, max_depth=4, n_estimators=200..........\n",
      "[CV 1/3; 14/27] END learning_rate=0.1, max_depth=4, n_estimators=200;, score=-0.852 total time=   3.4s\n",
      "[CV 2/3; 14/27] START learning_rate=0.1, max_depth=4, n_estimators=200..........\n",
      "[CV 2/3; 14/27] END learning_rate=0.1, max_depth=4, n_estimators=200;, score=-0.828 total time=   3.5s\n",
      "[CV 3/3; 14/27] START learning_rate=0.1, max_depth=4, n_estimators=200..........\n",
      "[CV 3/3; 14/27] END learning_rate=0.1, max_depth=4, n_estimators=200;, score=-0.819 total time=   3.3s\n",
      "[CV 1/3; 15/27] START learning_rate=0.1, max_depth=4, n_estimators=300..........\n",
      "[CV 1/3; 15/27] END learning_rate=0.1, max_depth=4, n_estimators=300;, score=-0.856 total time=   5.0s\n",
      "[CV 2/3; 15/27] START learning_rate=0.1, max_depth=4, n_estimators=300..........\n",
      "[CV 2/3; 15/27] END learning_rate=0.1, max_depth=4, n_estimators=300;, score=-0.827 total time=   5.0s\n",
      "[CV 3/3; 15/27] START learning_rate=0.1, max_depth=4, n_estimators=300..........\n",
      "[CV 3/3; 15/27] END learning_rate=0.1, max_depth=4, n_estimators=300;, score=-0.829 total time=   4.7s\n",
      "[CV 1/3; 16/27] START learning_rate=0.1, max_depth=5, n_estimators=100..........\n",
      "[CV 1/3; 16/27] END learning_rate=0.1, max_depth=5, n_estimators=100;, score=-0.859 total time=   2.4s\n",
      "[CV 2/3; 16/27] START learning_rate=0.1, max_depth=5, n_estimators=100..........\n",
      "[CV 2/3; 16/27] END learning_rate=0.1, max_depth=5, n_estimators=100;, score=-0.835 total time=   2.4s\n",
      "[CV 3/3; 16/27] START learning_rate=0.1, max_depth=5, n_estimators=100..........\n",
      "[CV 3/3; 16/27] END learning_rate=0.1, max_depth=5, n_estimators=100;, score=-0.819 total time=   2.4s\n",
      "[CV 1/3; 17/27] START learning_rate=0.1, max_depth=5, n_estimators=200..........\n",
      "[CV 1/3; 17/27] END learning_rate=0.1, max_depth=5, n_estimators=200;, score=-0.864 total time=   4.2s\n",
      "[CV 2/3; 17/27] START learning_rate=0.1, max_depth=5, n_estimators=200..........\n",
      "[CV 2/3; 17/27] END learning_rate=0.1, max_depth=5, n_estimators=200;, score=-0.831 total time=   4.3s\n",
      "[CV 3/3; 17/27] START learning_rate=0.1, max_depth=5, n_estimators=200..........\n",
      "[CV 3/3; 17/27] END learning_rate=0.1, max_depth=5, n_estimators=200;, score=-0.830 total time=   4.3s\n",
      "[CV 1/3; 18/27] START learning_rate=0.1, max_depth=5, n_estimators=300..........\n",
      "[CV 1/3; 18/27] END learning_rate=0.1, max_depth=5, n_estimators=300;, score=-0.875 total time=   5.9s\n",
      "[CV 2/3; 18/27] START learning_rate=0.1, max_depth=5, n_estimators=300..........\n",
      "[CV 2/3; 18/27] END learning_rate=0.1, max_depth=5, n_estimators=300;, score=-0.830 total time=   6.0s\n",
      "[CV 3/3; 18/27] START learning_rate=0.1, max_depth=5, n_estimators=300..........\n",
      "[CV 3/3; 18/27] END learning_rate=0.1, max_depth=5, n_estimators=300;, score=-0.840 total time=   6.0s\n",
      "[CV 1/3; 19/27] START learning_rate=0.2, max_depth=3, n_estimators=100..........\n",
      "[CV 1/3; 19/27] END learning_rate=0.2, max_depth=3, n_estimators=100;, score=-0.858 total time=   1.6s\n",
      "[CV 2/3; 19/27] START learning_rate=0.2, max_depth=3, n_estimators=100..........\n",
      "[CV 2/3; 19/27] END learning_rate=0.2, max_depth=3, n_estimators=100;, score=-0.831 total time=   1.6s\n",
      "[CV 3/3; 19/27] START learning_rate=0.2, max_depth=3, n_estimators=100..........\n",
      "[CV 3/3; 19/27] END learning_rate=0.2, max_depth=3, n_estimators=100;, score=-0.825 total time=   1.6s\n",
      "[CV 1/3; 20/27] START learning_rate=0.2, max_depth=3, n_estimators=200..........\n",
      "[CV 1/3; 20/27] END learning_rate=0.2, max_depth=3, n_estimators=200;, score=-0.857 total time=   2.6s\n",
      "[CV 2/3; 20/27] START learning_rate=0.2, max_depth=3, n_estimators=200..........\n",
      "[CV 2/3; 20/27] END learning_rate=0.2, max_depth=3, n_estimators=200;, score=-0.825 total time=   2.6s\n",
      "[CV 3/3; 20/27] START learning_rate=0.2, max_depth=3, n_estimators=200..........\n",
      "[CV 3/3; 20/27] END learning_rate=0.2, max_depth=3, n_estimators=200;, score=-0.834 total time=   2.7s\n",
      "[CV 1/3; 21/27] START learning_rate=0.2, max_depth=3, n_estimators=300..........\n",
      "[CV 1/3; 21/27] END learning_rate=0.2, max_depth=3, n_estimators=300;, score=-0.860 total time=   4.2s\n",
      "[CV 2/3; 21/27] START learning_rate=0.2, max_depth=3, n_estimators=300..........\n",
      "[CV 2/3; 21/27] END learning_rate=0.2, max_depth=3, n_estimators=300;, score=-0.823 total time=   4.0s\n",
      "[CV 3/3; 21/27] START learning_rate=0.2, max_depth=3, n_estimators=300..........\n",
      "[CV 3/3; 21/27] END learning_rate=0.2, max_depth=3, n_estimators=300;, score=-0.839 total time=   4.6s\n",
      "[CV 1/3; 22/27] START learning_rate=0.2, max_depth=4, n_estimators=100..........\n",
      "[CV 1/3; 22/27] END learning_rate=0.2, max_depth=4, n_estimators=100;, score=-0.858 total time=   2.0s\n",
      "[CV 2/3; 22/27] START learning_rate=0.2, max_depth=4, n_estimators=100..........\n",
      "[CV 2/3; 22/27] END learning_rate=0.2, max_depth=4, n_estimators=100;, score=-0.827 total time=   2.0s\n",
      "[CV 3/3; 22/27] START learning_rate=0.2, max_depth=4, n_estimators=100..........\n",
      "[CV 3/3; 22/27] END learning_rate=0.2, max_depth=4, n_estimators=100;, score=-0.817 total time=   2.4s\n",
      "[CV 1/3; 23/27] START learning_rate=0.2, max_depth=4, n_estimators=200..........\n",
      "[CV 1/3; 23/27] END learning_rate=0.2, max_depth=4, n_estimators=200;, score=-0.866 total time=   4.3s\n",
      "[CV 2/3; 23/27] START learning_rate=0.2, max_depth=4, n_estimators=200..........\n",
      "[CV 2/3; 23/27] END learning_rate=0.2, max_depth=4, n_estimators=200;, score=-0.826 total time=   3.6s\n",
      "[CV 3/3; 23/27] START learning_rate=0.2, max_depth=4, n_estimators=200..........\n",
      "[CV 3/3; 23/27] END learning_rate=0.2, max_depth=4, n_estimators=200;, score=-0.847 total time=  10.7s\n",
      "[CV 1/3; 24/27] START learning_rate=0.2, max_depth=4, n_estimators=300..........\n",
      "[CV 1/3; 24/27] END learning_rate=0.2, max_depth=4, n_estimators=300;, score=-0.879 total time=   5.6s\n",
      "[CV 2/3; 24/27] START learning_rate=0.2, max_depth=4, n_estimators=300..........\n",
      "[CV 2/3; 24/27] END learning_rate=0.2, max_depth=4, n_estimators=300;, score=-0.825 total time=   5.2s\n",
      "[CV 3/3; 24/27] START learning_rate=0.2, max_depth=4, n_estimators=300..........\n",
      "[CV 3/3; 24/27] END learning_rate=0.2, max_depth=4, n_estimators=300;, score=-0.860 total time=   5.1s\n",
      "[CV 1/3; 25/27] START learning_rate=0.2, max_depth=5, n_estimators=100..........\n",
      "[CV 1/3; 25/27] END learning_rate=0.2, max_depth=5, n_estimators=100;, score=-0.865 total time=   2.5s\n",
      "[CV 2/3; 25/27] START learning_rate=0.2, max_depth=5, n_estimators=100..........\n",
      "[CV 2/3; 25/27] END learning_rate=0.2, max_depth=5, n_estimators=100;, score=-0.832 total time=   2.4s\n",
      "[CV 3/3; 25/27] START learning_rate=0.2, max_depth=5, n_estimators=100..........\n",
      "[CV 3/3; 25/27] END learning_rate=0.2, max_depth=5, n_estimators=100;, score=-0.824 total time=   2.5s\n",
      "[CV 1/3; 26/27] START learning_rate=0.2, max_depth=5, n_estimators=200..........\n",
      "[CV 1/3; 26/27] END learning_rate=0.2, max_depth=5, n_estimators=200;, score=-0.877 total time=   4.5s\n",
      "[CV 2/3; 26/27] START learning_rate=0.2, max_depth=5, n_estimators=200..........\n",
      "[CV 2/3; 26/27] END learning_rate=0.2, max_depth=5, n_estimators=200;, score=-0.832 total time=   4.7s\n",
      "[CV 3/3; 26/27] START learning_rate=0.2, max_depth=5, n_estimators=200..........\n",
      "[CV 3/3; 26/27] END learning_rate=0.2, max_depth=5, n_estimators=200;, score=-0.861 total time=   4.6s\n",
      "[CV 1/3; 27/27] START learning_rate=0.2, max_depth=5, n_estimators=300..........\n",
      "[CV 1/3; 27/27] END learning_rate=0.2, max_depth=5, n_estimators=300;, score=-0.890 total time=   9.2s\n",
      "[CV 2/3; 27/27] START learning_rate=0.2, max_depth=5, n_estimators=300..........\n",
      "[CV 2/3; 27/27] END learning_rate=0.2, max_depth=5, n_estimators=300;, score=-0.833 total time=  10.1s\n",
      "[CV 3/3; 27/27] START learning_rate=0.2, max_depth=5, n_estimators=300..........\n",
      "[CV 3/3; 27/27] END learning_rate=0.2, max_depth=5, n_estimators=300;, score=-0.875 total time=   7.6s\n"
     ]
    }
   ],
   "source": [
    "grid_search = fit(grid, train_x, train_y)"
   ]
  },
  {
   "cell_type": "code",
   "execution_count": 10,
   "metadata": {},
   "outputs": [],
   "source": [
    "best_xgb = grid_search.best_estimator_"
   ]
  },
  {
   "cell_type": "code",
   "execution_count": 11,
   "metadata": {},
   "outputs": [
    {
     "name": "stdout",
     "output_type": "stream",
     "text": [
      "Mean Squared Error (MSE): 0.9445614701887707\n",
      "Root Mean Squared Error (RMSE): 0.9718855231912711\n",
      "Mean Absolute Error (MAE): 0.7758542171865702\n"
     ]
    }
   ],
   "source": [
    "predictions = best_xgb.predict(test_x)\n",
    "\n",
    "# Calculate evaluation metrics\n",
    "mse = mean_squared_error(test_y, predictions)\n",
    "rmse = mean_squared_error(test_y, predictions, squared=False)\n",
    "mae = mean_absolute_error(test_y, predictions)\n",
    "\n",
    "print(\"Mean Squared Error (MSE):\", mse)\n",
    "print(\"Root Mean Squared Error (RMSE):\", rmse)\n",
    "print(\"Mean Absolute Error (MAE):\", mae)"
   ]
  },
  {
   "cell_type": "code",
   "execution_count": null,
   "metadata": {},
   "outputs": [],
   "source": [
    "joblib.dump(best_xgb, os.path.join(model_path, 'best_xgb_model.pkl'))"
   ]
  }
 ],
 "metadata": {
  "kernelspec": {
   "display_name": "Python 3",
   "language": "python",
   "name": "python3"
  },
  "language_info": {
   "codemirror_mode": {
    "name": "ipython",
    "version": 3
   },
   "file_extension": ".py",
   "mimetype": "text/x-python",
   "name": "python",
   "nbconvert_exporter": "python",
   "pygments_lexer": "ipython3",
   "version": "3.11.2"
  }
 },
 "nbformat": 4,
 "nbformat_minor": 2
}
